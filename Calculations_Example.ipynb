{
 "cells": [
  {
   "cell_type": "markdown",
   "metadata": {},
   "source": [
    "## Imports\n",
    "\n",
    "Rheology package must be installed on local computer."
   ]
  },
  {
   "cell_type": "code",
   "execution_count": 1,
   "metadata": {},
   "outputs": [],
   "source": [
    "import pandas as pd\n",
    "import rheology as rh\n",
    "import math"
   ]
  },
  {
   "cell_type": "markdown",
   "metadata": {},
   "source": [
    "## Load Data\n",
    " Load raw data into a pandas dataframe for each sample (n). Make sure all columns in the csv has cell **type \"Number\" with no , separating 1000.** Also ensure to **delete the notes at the top of the csv with the parameters being the first row** (Meas. Pts., Time, Storage Modulus, etc.)."
   ]
  },
  {
   "cell_type": "code",
   "execution_count": 4,
   "metadata": {},
   "outputs": [],
   "source": [
    "# PXP 37C data\n",
    "p1 = pd.read_csv('exampledata/PXP_N1.csv', encoding=\"ISO-8859-1\")\n",
    "p2 = pd.read_csv('exampledata/PXP_N2.csv', encoding=\"ISO-8859-1\")\n",
    "p3 = pd.read_csv('exampledata/PXP_N3.csv', encoding=\"ISO-8859-1\")\n",
    "p4 = pd.read_csv('exampledata/PXP_N4.csv', encoding=\"ISO-8859-1\")\n",
    "\n",
    "# TXT 37C data\n",
    "t1 = pd.read_csv('exampledata/TXT_N1.csv', encoding=\"ISO-8859-1\")\n",
    "t2 = pd.read_csv('exampledata/TXT_N2.csv', encoding=\"ISO-8859-1\")\n",
    "t3 = pd.read_csv('exampledata/TXT_N3.csv', encoding=\"ISO-8859-1\")\n",
    "t4 = pd.read_csv('exampledata/TXT_N4.csv', encoding=\"ISO-8859-1\")"
   ]
  },
  {
   "cell_type": "markdown",
   "metadata": {},
   "source": [
    "Parse the data into each test using `rh.all_tests_n(df)`. This will return a dictionary where each entry corresponds to a separate test in the rheology protocol. See below for the dictionary keys.\n",
    "\n",
    "0 : time sweep \\\n",
    "1 : frequency sweep \\\n",
    "2 : time sweep \\\n",
    "3 : strain sweep \\\n",
    "4 : time sweep \\\n",
    "5 : cyclic strain sweep \\\n",
    "6 : shear thinning test"
   ]
  },
  {
   "cell_type": "code",
   "execution_count": 5,
   "metadata": {},
   "outputs": [],
   "source": [
    "pxp = rh.all_tests(p1, p2, p3, p4)\n",
    "txt = rh.all_tests(t1, t2, t3, t4)"
   ]
  },
  {
   "cell_type": "markdown",
   "metadata": {},
   "source": [
    "## Average Storage Modulus"
   ]
  },
  {
   "cell_type": "code",
   "execution_count": 7,
   "metadata": {},
   "outputs": [
    {
     "data": {
      "text/html": [
       "<div>\n",
       "<style scoped>\n",
       "    .dataframe tbody tr th:only-of-type {\n",
       "        vertical-align: middle;\n",
       "    }\n",
       "\n",
       "    .dataframe tbody tr th {\n",
       "        vertical-align: top;\n",
       "    }\n",
       "\n",
       "    .dataframe thead th {\n",
       "        text-align: right;\n",
       "    }\n",
       "</style>\n",
       "<table border=\"1\" class=\"dataframe\">\n",
       "  <thead>\n",
       "    <tr style=\"text-align: right;\">\n",
       "      <th></th>\n",
       "      <th>n1 G' [Pa]</th>\n",
       "      <th>n2 G' [Pa]</th>\n",
       "      <th>n3 G' [Pa]</th>\n",
       "      <th>n4 G' [Pa]</th>\n",
       "      <th>Mean</th>\n",
       "    </tr>\n",
       "  </thead>\n",
       "  <tbody>\n",
       "    <tr>\n",
       "      <th>RGD.PXP.RGD</th>\n",
       "      <td>5257.130952</td>\n",
       "      <td>4596.690476</td>\n",
       "      <td>3708.833333</td>\n",
       "      <td>5836.702381</td>\n",
       "      <td>4849.839286</td>\n",
       "    </tr>\n",
       "    <tr>\n",
       "      <th>T40A</th>\n",
       "      <td>6865.654762</td>\n",
       "      <td>10835.357143</td>\n",
       "      <td>7292.440476</td>\n",
       "      <td>2527.928571</td>\n",
       "      <td>6880.345238</td>\n",
       "    </tr>\n",
       "  </tbody>\n",
       "</table>\n",
       "</div>"
      ],
      "text/plain": [
       "              n1 G' [Pa]    n2 G' [Pa]   n3 G' [Pa]   n4 G' [Pa]         Mean\n",
       "RGD.PXP.RGD  5257.130952   4596.690476  3708.833333  5836.702381  4849.839286\n",
       "T40A         6865.654762  10835.357143  7292.440476  2527.928571  6880.345238"
      ]
     },
     "execution_count": 7,
     "metadata": {},
     "output_type": "execute_result"
    }
   ],
   "source": [
    "sm_pxp = rh.storage_modulus(pxp)\n",
    "sm_txt = rh.storage_modulus(txt)\n",
    "\n",
    "name = [\"n1 G' [Pa]\", \"n2 G' [Pa]\", \"n3 G' [Pa]\", \"n4 G' [Pa]\"]\n",
    "\n",
    "sm = pd.DataFrame([sm_pxp, sm_txt], columns=name, index=['RGD.PXP.RGD', 'T40A'])\n",
    "sm['Mean'] = sm.mean(axis=1)\n",
    "sm"
   ]
  },
  {
   "cell_type": "markdown",
   "metadata": {},
   "source": [
    "## Angular Frequency Crossover"
   ]
  },
  {
   "cell_type": "code",
   "execution_count": 8,
   "metadata": {},
   "outputs": [],
   "source": [
    "name = ['n1 [rad/s]', 'n2 [rad/s]', 'n3 [rad/s]', 'n4 [rad/s]']\n",
    "\n",
    "aco_pxp = rh.crossover(pxp, name, cotype=2)\n",
    "aco_pxp = aco_pxp.rename(index={'Frequency Sweep 1': 'RGD.PXP.RGD'})"
   ]
  },
  {
   "cell_type": "code",
   "execution_count": 9,
   "metadata": {},
   "outputs": [],
   "source": [
    "aco_txt = rh.crossover(txt, name, cotype=2)\n",
    "aco_txt = aco_txt.rename(index={'Frequency Sweep 1': 'T40A'})"
   ]
  },
  {
   "cell_type": "code",
   "execution_count": 10,
   "metadata": {},
   "outputs": [
    {
     "data": {
      "text/html": [
       "<div>\n",
       "<style scoped>\n",
       "    .dataframe tbody tr th:only-of-type {\n",
       "        vertical-align: middle;\n",
       "    }\n",
       "\n",
       "    .dataframe tbody tr th {\n",
       "        vertical-align: top;\n",
       "    }\n",
       "\n",
       "    .dataframe thead th {\n",
       "        text-align: right;\n",
       "    }\n",
       "</style>\n",
       "<table border=\"1\" class=\"dataframe\">\n",
       "  <thead>\n",
       "    <tr style=\"text-align: right;\">\n",
       "      <th></th>\n",
       "      <th>n1 [rad/s]</th>\n",
       "      <th>n2 [rad/s]</th>\n",
       "      <th>n3 [rad/s]</th>\n",
       "      <th>n4 [rad/s]</th>\n",
       "      <th>Mean</th>\n",
       "    </tr>\n",
       "    <tr>\n",
       "      <th>Test</th>\n",
       "      <th></th>\n",
       "      <th></th>\n",
       "      <th></th>\n",
       "      <th></th>\n",
       "      <th></th>\n",
       "    </tr>\n",
       "  </thead>\n",
       "  <tbody>\n",
       "    <tr>\n",
       "      <th>RGD.PXP.RGD</th>\n",
       "      <td>12.726049</td>\n",
       "      <td>10.218855</td>\n",
       "      <td>13.346851</td>\n",
       "      <td>6.522532</td>\n",
       "      <td>10.703572</td>\n",
       "    </tr>\n",
       "    <tr>\n",
       "      <th>T40A</th>\n",
       "      <td>3.144564</td>\n",
       "      <td>1.572737</td>\n",
       "      <td>1.482496</td>\n",
       "      <td>3.129497</td>\n",
       "      <td>2.332324</td>\n",
       "    </tr>\n",
       "  </tbody>\n",
       "</table>\n",
       "</div>"
      ],
      "text/plain": [
       "             n1 [rad/s]  n2 [rad/s]  n3 [rad/s]  n4 [rad/s]       Mean\n",
       "Test                                                                  \n",
       "RGD.PXP.RGD   12.726049   10.218855   13.346851    6.522532  10.703572\n",
       "T40A           3.144564    1.572737    1.482496    3.129497   2.332324"
      ]
     },
     "execution_count": 10,
     "metadata": {},
     "output_type": "execute_result"
    }
   ],
   "source": [
    "frames = [aco_pxp, aco_txt]\n",
    "aco = pd.concat(frames)\n",
    "aco"
   ]
  },
  {
   "cell_type": "markdown",
   "metadata": {},
   "source": [
    "## Strain Crossover"
   ]
  },
  {
   "cell_type": "code",
   "execution_count": 11,
   "metadata": {},
   "outputs": [],
   "source": [
    "name = ['n1 %Strain', 'n2 %Strain', 'n3 %Strain', 'n4 %Strain']\n",
    "\n",
    "sco_pxp = rh.crossover(pxp, name, cotype=1)\n",
    "sco_pxp = sco_pxp.rename(index={'Strain Sweep 3': 'RGD.PXP.RGD'})"
   ]
  },
  {
   "cell_type": "code",
   "execution_count": 12,
   "metadata": {},
   "outputs": [],
   "source": [
    "sco_txt = rh.crossover(txt, name, cotype=1)\n",
    "sco_txt = sco_txt.rename(index={'Strain Sweep 3': 'T40A'})"
   ]
  },
  {
   "cell_type": "code",
   "execution_count": 13,
   "metadata": {},
   "outputs": [
    {
     "data": {
      "text/html": [
       "<div>\n",
       "<style scoped>\n",
       "    .dataframe tbody tr th:only-of-type {\n",
       "        vertical-align: middle;\n",
       "    }\n",
       "\n",
       "    .dataframe tbody tr th {\n",
       "        vertical-align: top;\n",
       "    }\n",
       "\n",
       "    .dataframe thead th {\n",
       "        text-align: right;\n",
       "    }\n",
       "</style>\n",
       "<table border=\"1\" class=\"dataframe\">\n",
       "  <thead>\n",
       "    <tr style=\"text-align: right;\">\n",
       "      <th></th>\n",
       "      <th>n1 %Strain</th>\n",
       "      <th>n2 %Strain</th>\n",
       "      <th>n3 %Strain</th>\n",
       "      <th>n4 %Strain</th>\n",
       "      <th>Mean</th>\n",
       "    </tr>\n",
       "    <tr>\n",
       "      <th>Test</th>\n",
       "      <th></th>\n",
       "      <th></th>\n",
       "      <th></th>\n",
       "      <th></th>\n",
       "      <th></th>\n",
       "    </tr>\n",
       "  </thead>\n",
       "  <tbody>\n",
       "    <tr>\n",
       "      <th>RGD.PXP.RGD</th>\n",
       "      <td>156.850272</td>\n",
       "      <td>147.893704</td>\n",
       "      <td>165.471030</td>\n",
       "      <td>140.654508</td>\n",
       "      <td>152.717379</td>\n",
       "    </tr>\n",
       "    <tr>\n",
       "      <th>T40A</th>\n",
       "      <td>147.926460</td>\n",
       "      <td>117.934776</td>\n",
       "      <td>136.476612</td>\n",
       "      <td>154.200841</td>\n",
       "      <td>139.134672</td>\n",
       "    </tr>\n",
       "  </tbody>\n",
       "</table>\n",
       "</div>"
      ],
      "text/plain": [
       "             n1 %Strain  n2 %Strain  n3 %Strain  n4 %Strain        Mean\n",
       "Test                                                                   \n",
       "RGD.PXP.RGD  156.850272  147.893704  165.471030  140.654508  152.717379\n",
       "T40A         147.926460  117.934776  136.476612  154.200841  139.134672"
      ]
     },
     "execution_count": 13,
     "metadata": {},
     "output_type": "execute_result"
    }
   ],
   "source": [
    "frames = [sco_pxp, sco_txt]\n",
    "sco = pd.concat(frames, sort=False)\n",
    "sco"
   ]
  },
  {
   "cell_type": "markdown",
   "metadata": {},
   "source": [
    "## Recovery Time $t_{1/2}$"
   ]
  },
  {
   "cell_type": "code",
   "execution_count": 14,
   "metadata": {},
   "outputs": [],
   "source": [
    "start = [1081, 1727, 2373, 3019]\n",
    "name = ['n1 t1/2 [s]', 'n2 t1/2 [s]', 'n3 t1/2 [s]', 'n4 t1/2 [s]']\n",
    "\n",
    "rth_pxp = rh.recovery(start, pxp, name, rtype=1)\n",
    "rth_pxp = rth_pxp.rename(index={'Cyclic Strain Sweep 5': 'RGD.PXP.RGD'})"
   ]
  },
  {
   "cell_type": "code",
   "execution_count": 15,
   "metadata": {},
   "outputs": [],
   "source": [
    "rth_txt = rh.recovery(start, txt, name, rtype=1)\n",
    "rth_txt = rth_txt.rename(index={'Cyclic Strain Sweep 5': 'T40A'})"
   ]
  },
  {
   "cell_type": "code",
   "execution_count": 16,
   "metadata": {
    "scrolled": true
   },
   "outputs": [
    {
     "data": {
      "text/html": [
       "<div>\n",
       "<style scoped>\n",
       "    .dataframe tbody tr th:only-of-type {\n",
       "        vertical-align: middle;\n",
       "    }\n",
       "\n",
       "    .dataframe tbody tr th {\n",
       "        vertical-align: top;\n",
       "    }\n",
       "\n",
       "    .dataframe thead th {\n",
       "        text-align: right;\n",
       "    }\n",
       "</style>\n",
       "<table border=\"1\" class=\"dataframe\">\n",
       "  <thead>\n",
       "    <tr style=\"text-align: right;\">\n",
       "      <th></th>\n",
       "      <th>n1 t1/2 [s]</th>\n",
       "      <th>n2 t1/2 [s]</th>\n",
       "      <th>n3 t1/2 [s]</th>\n",
       "      <th>n4 t1/2 [s]</th>\n",
       "      <th>Mean</th>\n",
       "    </tr>\n",
       "    <tr>\n",
       "      <th>Test</th>\n",
       "      <th></th>\n",
       "      <th></th>\n",
       "      <th></th>\n",
       "      <th></th>\n",
       "      <th></th>\n",
       "    </tr>\n",
       "  </thead>\n",
       "  <tbody>\n",
       "    <tr>\n",
       "      <th>RGD.PXP.RGD</th>\n",
       "      <td>33.543675</td>\n",
       "      <td>21.159587</td>\n",
       "      <td>40.149452</td>\n",
       "      <td>34.339929</td>\n",
       "      <td>32.298161</td>\n",
       "    </tr>\n",
       "    <tr>\n",
       "      <th>T40A</th>\n",
       "      <td>37.072018</td>\n",
       "      <td>24.220627</td>\n",
       "      <td>46.656151</td>\n",
       "      <td>14.483134</td>\n",
       "      <td>30.607983</td>\n",
       "    </tr>\n",
       "  </tbody>\n",
       "</table>\n",
       "</div>"
      ],
      "text/plain": [
       "             n1 t1/2 [s]  n2 t1/2 [s]  n3 t1/2 [s]  n4 t1/2 [s]       Mean\n",
       "Test                                                                      \n",
       "RGD.PXP.RGD    33.543675    21.159587    40.149452    34.339929  32.298161\n",
       "T40A           37.072018    24.220627    46.656151    14.483134  30.607983"
      ]
     },
     "execution_count": 16,
     "metadata": {},
     "output_type": "execute_result"
    }
   ],
   "source": [
    "frames = [rth_pxp, rth_txt]\n",
    "rth = pd.concat(frames, sort=False)\n",
    "rth"
   ]
  },
  {
   "cell_type": "markdown",
   "metadata": {},
   "source": [
    "## Recovery Time Crossover $t$"
   ]
  },
  {
   "cell_type": "code",
   "execution_count": 21,
   "metadata": {},
   "outputs": [],
   "source": [
    "name = ['n1 t [s]', 'n2 t [s]', 'n3 t [s]', 'n4 t [s]']\n",
    "\n",
    "rco_pxp = rh.recovery(start, pxp, name, rtype=2)\n",
    "rco_pxp = rco_pxp.rename(index={'Cyclic Strain Sweep 5': 'RGD.PXP.RGD'})"
   ]
  },
  {
   "cell_type": "code",
   "execution_count": 22,
   "metadata": {},
   "outputs": [],
   "source": [
    "rco_txt = rh.recovery(start, txt, name, rtype=2)\n",
    "rco_txt = rco_txt.rename(index={'Cyclic Strain Sweep 5': 'T40A'})"
   ]
  },
  {
   "cell_type": "code",
   "execution_count": 23,
   "metadata": {},
   "outputs": [
    {
     "data": {
      "text/html": [
       "<div>\n",
       "<style scoped>\n",
       "    .dataframe tbody tr th:only-of-type {\n",
       "        vertical-align: middle;\n",
       "    }\n",
       "\n",
       "    .dataframe tbody tr th {\n",
       "        vertical-align: top;\n",
       "    }\n",
       "\n",
       "    .dataframe thead th {\n",
       "        text-align: right;\n",
       "    }\n",
       "</style>\n",
       "<table border=\"1\" class=\"dataframe\">\n",
       "  <thead>\n",
       "    <tr style=\"text-align: right;\">\n",
       "      <th></th>\n",
       "      <th>n1 t [s]</th>\n",
       "      <th>n2 t [s]</th>\n",
       "      <th>n3 t [s]</th>\n",
       "      <th>n4 t [s]</th>\n",
       "      <th>Mean</th>\n",
       "    </tr>\n",
       "    <tr>\n",
       "      <th>Test</th>\n",
       "      <th></th>\n",
       "      <th></th>\n",
       "      <th></th>\n",
       "      <th></th>\n",
       "      <th></th>\n",
       "    </tr>\n",
       "  </thead>\n",
       "  <tbody>\n",
       "    <tr>\n",
       "      <th>RGD.PXP.RGD</th>\n",
       "      <td>6.763947</td>\n",
       "      <td>4.976236</td>\n",
       "      <td>16.704571</td>\n",
       "      <td>4.873514</td>\n",
       "      <td>8.329567</td>\n",
       "    </tr>\n",
       "    <tr>\n",
       "      <th>T40A</th>\n",
       "      <td>4.520176</td>\n",
       "      <td>4.280487</td>\n",
       "      <td>4.434718</td>\n",
       "      <td>5.000071</td>\n",
       "      <td>4.558863</td>\n",
       "    </tr>\n",
       "  </tbody>\n",
       "</table>\n",
       "</div>"
      ],
      "text/plain": [
       "             n1 t [s]  n2 t [s]   n3 t [s]  n4 t [s]      Mean\n",
       "Test                                                          \n",
       "RGD.PXP.RGD  6.763947  4.976236  16.704571  4.873514  8.329567\n",
       "T40A         4.520176  4.280487   4.434718  5.000071  4.558863"
      ]
     },
     "execution_count": 23,
     "metadata": {},
     "output_type": "execute_result"
    }
   ],
   "source": [
    "frames = [rco_pxp, rco_txt]\n",
    "rco = pd.concat(frames, sort=False)\n",
    "rco"
   ]
  },
  {
   "cell_type": "code",
   "execution_count": null,
   "metadata": {},
   "outputs": [],
   "source": []
  }
 ],
 "metadata": {
  "kernelspec": {
   "display_name": "Python 3",
   "language": "python",
   "name": "python3"
  },
  "language_info": {
   "codemirror_mode": {
    "name": "ipython",
    "version": 3
   },
   "file_extension": ".py",
   "mimetype": "text/x-python",
   "name": "python",
   "nbconvert_exporter": "python",
   "pygments_lexer": "ipython3",
   "version": "3.7.3"
  }
 },
 "nbformat": 4,
 "nbformat_minor": 4
}
